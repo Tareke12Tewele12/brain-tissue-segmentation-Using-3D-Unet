{
  "nbformat": 4,
  "nbformat_minor": 0,
  "metadata": {
    "colab": {
      "name": "Brain_tissue_Segmentataion_project.ipynb",
      "provenance": [],
      "collapsed_sections": [],
      "machine_shape": "hm"
    },
    "kernelspec": {
      "name": "python3",
      "display_name": "Python 3"
    },
    "accelerator": "GPU"
  },
  "cells": [
    {
      "cell_type": "markdown",
      "source": [
        "### Medical Image Segmentation and Applicationo Project(MISA) "
      ],
      "metadata": {
        "id": "Sj_OFKDxdmPJ"
      }
    },
    {
      "cell_type": "code",
      "source": [
        "gpu_info = !nvidia-smi\n",
        "gpu_info = '\\n'.join(gpu_info)\n",
        "if gpu_info.find('failed') >= 0:\n",
        "  print('Not connected to a GPU')\n",
        "else:\n",
        "  print(gpu_info)"
      ],
      "metadata": {
        "colab": {
          "base_uri": "https://localhost:8080/"
        },
        "id": "GmFH2HoRdhL9",
        "outputId": "575acf75-2261-4d74-c1e3-0d286010dfe4"
      },
      "execution_count": 11,
      "outputs": [
        {
          "output_type": "stream",
          "name": "stdout",
          "text": [
            "Sun Jan 16 21:39:13 2022       \n",
            "+-----------------------------------------------------------------------------+\n",
            "| NVIDIA-SMI 495.46       Driver Version: 460.32.03    CUDA Version: 11.2     |\n",
            "|-------------------------------+----------------------+----------------------+\n",
            "| GPU  Name        Persistence-M| Bus-Id        Disp.A | Volatile Uncorr. ECC |\n",
            "| Fan  Temp  Perf  Pwr:Usage/Cap|         Memory-Usage | GPU-Util  Compute M. |\n",
            "|                               |                      |               MIG M. |\n",
            "|===============================+======================+======================|\n",
            "|   0  Tesla P100-PCIE...  Off  | 00000000:00:04.0 Off |                    0 |\n",
            "| N/A   38C    P0    29W / 250W |      0MiB / 16280MiB |      0%      Default |\n",
            "|                               |                      |                  N/A |\n",
            "+-------------------------------+----------------------+----------------------+\n",
            "                                                                               \n",
            "+-----------------------------------------------------------------------------+\n",
            "| Processes:                                                                  |\n",
            "|  GPU   GI   CI        PID   Type   Process name                  GPU Memory |\n",
            "|        ID   ID                                                   Usage      |\n",
            "|=============================================================================|\n",
            "|  No running processes found                                                 |\n",
            "+-----------------------------------------------------------------------------+\n"
          ]
        }
      ]
    },
    {
      "cell_type": "code",
      "source": [
        "from psutil import virtual_memory\n",
        "ram_gb = virtual_memory().total / 1e9\n",
        "print('Your runtime has {:.1f} gigabytes of available RAM\\n'.format(ram_gb))\n",
        "\n",
        "if ram_gb < 20:\n",
        "  print('Not using a high-RAM runtime')\n",
        "else:\n",
        "  print('You are using a high-RAM runtime!')"
      ],
      "metadata": {
        "colab": {
          "base_uri": "https://localhost:8080/"
        },
        "id": "Gn11ebtzd9ps",
        "outputId": "bf4f1eb2-5258-44de-b271-fd2e6768c7c7"
      },
      "execution_count": 12,
      "outputs": [
        {
          "output_type": "stream",
          "name": "stdout",
          "text": [
            "Your runtime has 27.3 gigabytes of available RAM\n",
            "\n",
            "You are using a high-RAM runtime!\n"
          ]
        }
      ]
    },
    {
      "cell_type": "code",
      "source": [
        "from psutil import virtual_memory\n",
        "ram_gb = virtual_memory().total / 1e9\n",
        "print('Your runtime has {:.1f} gigabytes of available RAM\\n'.format(ram_gb))\n",
        "\n",
        "if ram_gb < 20:\n",
        "  print('Not using a high-RAM runtime')\n",
        "else:\n",
        "  print('You are using a high-RAM runtime!')"
      ],
      "metadata": {
        "colab": {
          "base_uri": "https://localhost:8080/"
        },
        "id": "MYRA0CWApSDg",
        "outputId": "3534580a-2c70-4fc8-ef5f-e7fdb343a8af"
      },
      "execution_count": 13,
      "outputs": [
        {
          "output_type": "stream",
          "name": "stdout",
          "text": [
            "Your runtime has 27.3 gigabytes of available RAM\n",
            "\n",
            "You are using a high-RAM runtime!\n"
          ]
        }
      ]
    },
    {
      "cell_type": "markdown",
      "metadata": {
        "id": "HMIG5gOwa-Nb"
      },
      "source": [
        "**Import libraries**"
      ]
    },
    {
      "cell_type": "code",
      "metadata": {
        "id": "spA2vbr3a0j7"
      },
      "source": [
        "import os\n",
        "import numpy as np\n",
        "import random\n",
        "from scipy.ndimage import gaussian_filter\n",
        "np.random.seed(777)\n",
        "import cv2\n",
        "import math\n",
        "import keras\n",
        "import keras.backend as K\n",
        "import h5py\n",
        "from keras.preprocessing.image import ImageDataGenerator\n",
        "from tensorflow.keras.optimizers import Adam, SGD, RMSprop\n",
        "from keras.models import Sequential\n",
        "from keras.models import Model\n",
        "from keras.layers import Input, Activation, merge, Dense, Flatten, Dropout\n",
        "from keras.layers.convolutional import Conv2D, MaxPooling2D\n",
        "from keras.layers import BatchNormalization, add, GlobalAveragePooling2D\n",
        "from keras.utils.np_utils import to_categorical\n",
        "from tensorflow.keras.optimizers import Adam\n",
        "from sklearn.metrics import accuracy_score,roc_curve, confusion_matrix, roc_auc_score, auc, f1_score\n",
        "from keras.regularizers import l2\n",
        "from keras import Model\n",
        "import keras\n",
        "from keras import layers\n",
        "import numpy as np\n",
        "import nibabel as nib\n",
        "import matplotlib.pyplot as plt # plotting purposes\n",
        "\n",
        "import tensorflow as tf\n",
        "\n",
        "from tensorflow import keras\n",
        "from tensorflow.keras import layers"
      ],
      "execution_count": 14,
      "outputs": []
    },
    {
      "cell_type": "code",
      "source": [
        "from google.colab import drive\n",
        "drive.mount(\"/content/drive\")"
      ],
      "metadata": {
        "colab": {
          "base_uri": "https://localhost:8080/"
        },
        "id": "uLVtzcg0Admw",
        "outputId": "aab9cfcc-15f7-4885-e54d-138fa5798496"
      },
      "execution_count": 15,
      "outputs": [
        {
          "output_type": "stream",
          "name": "stdout",
          "text": [
            "Mounted at /content/drive\n"
          ]
        }
      ]
    },
    {
      "cell_type": "markdown",
      "metadata": {
        "id": "IEFUu8FjYvaz"
      },
      "source": [
        "**Define parameters**"
      ]
    },
    {
      "cell_type": "code",
      "metadata": {
        "id": "eerKWEtxUg_x"
      },
      "source": [
        "##   Cell_1\n",
        "# dataset parameters\n",
        "FNAME_PATTERN = '/content/drive/MyDrive/MiSa/Resampled/IBSR_{}_{}.nii.gz'\n",
        "\n",
        "# training parameters\n",
        "N_EPOCHS = 50\n",
        "BATCH_SIZE = 16\n",
        "PATIENCE = 15\n",
        "MODEL_FNAME_PATTERN = 'Best_model.h5'\n",
        "OPTIMISER = 'Adam'\n",
        "LOSS = 'categorical_crossentropy'\n",
        "N_VOLUMES = 15\n",
        "IMAGE_SIZE = (256,192,256)\n",
        "\n",
        "# network parameters\n",
        "N_CLASSES = 4\n",
        "N_INPUT_CHANNELS = 1\n",
        "PATCH_SIZE = (64, 64)\n",
        "PATCH_STRIDE = (32, 32)\n",
        "\n",
        "# training, validation, test parameters\n",
        "TRAINING_VOLUMES = [0, 1, 2, 3, 4, 5, 6,7,8,9]\n",
        "VALIDATION_VOLUMES = [10,11, 12,13,14]\n",
        "\n",
        "# data preparation parameters range from[0.2 to 0.6]\n",
        "CONTENT_THRESHOLD = 0.4\n"
      ],
      "execution_count": 19,
      "outputs": []
    },
    {
      "cell_type": "code",
      "source": [
        "import SimpleITK as sitk"
      ],
      "metadata": {
        "id": "bD52cCI5jTE_"
      },
      "execution_count": null,
      "outputs": []
    },
    {
      "cell_type": "code",
      "source": [
        " ### Cell_2\n",
        "\n",
        "##### Bias field correction cell\n",
        "def N4():\n",
        "    print(\"N4 bias correction runs.\")\n",
        "    inputImage = sitk.ReadImage(\"/content/drive/MyDrive/MiSa/Data_set/train/IBSR_04.nii.gz\")\n",
        "    maskImage = sitk.OtsuThreshold(inputImage,0,1,200)\n",
        "    sitk.WriteImage(maskImage, \"06-t1c_mask3.nii.gz\")\n",
        "\n",
        "    inputImage = sitk.Cast(inputImage,sitk.sitkFloat32)\n",
        "\n",
        "    corrector = sitk.N4BiasFieldCorrectionImageFilter();\n",
        "\n",
        "    output = corrector.Execute(inputImage,maskImage)\n",
        "    sitk.WriteImage(output,\"06-t1c_output3.nii.gz\")\n",
        "    print(\"Finished N4 Bias Field Correction.....\")"
      ],
      "metadata": {
        "id": "mNEJMs2ljUTY"
      },
      "execution_count": 18,
      "outputs": []
    },
    {
      "cell_type": "code",
      "source": [
        "if __name__=='__main__':  #### being run standalone by the user\n",
        "   N4()  #### Calling function "
      ],
      "metadata": {
        "id": "kaeSXZA_jbG_"
      },
      "execution_count": null,
      "outputs": []
    },
    {
      "cell_type": "code",
      "source": [
        "import os\n",
        "import numpy as np\n",
        "from nibabel.testing import data_path"
      ],
      "metadata": {
        "id": "8C1Lb5eaj6q0"
      },
      "execution_count": null,
      "outputs": []
    },
    {
      "cell_type": "code",
      "source": [
        "###### For saving the bias field corrected IBSR Datasets\n",
        "filename1 = os.path.join(data_path, '/content/drive/MyDrive/MiSa/Data_set/train/IBSR_04.nii.gz')\n",
        "filename2 = os.path.join(data_path, '/content/06-t1c_output.nii.gz')"
      ],
      "metadata": {
        "id": "VjGqXUsXj9o7"
      },
      "execution_count": null,
      "outputs": []
    },
    {
      "cell_type": "markdown",
      "source": [
        "**Define U-net architecture**"
      ],
      "metadata": {
        "id": "UtUL1X_CgcGH"
      }
    },
    {
      "cell_type": "code",
      "source": [
        "def get_unet(img_size=PATCH_SIZE, n_classes=N_CLASSES, n_input_channels=N_INPUT_CHANNELS, scale=1):\n",
        "    inputs = keras.Input(shape=img_size + (n_input_channels, ))\n",
        "\n",
        "    # Encoding path\n",
        "    conv1 = layers.Conv2D(32*scale, (3, 3), padding=\"same\", activation='relu')(inputs)\n",
        "    max1 = layers.MaxPooling2D((2, 2))(conv1)\n",
        "\n",
        "    conv2 = layers.Conv2D(64*scale, (3, 3), padding=\"same\", activation='relu')(max1)\n",
        "    max2 = layers.MaxPooling2D((2, 2))(conv2)\n",
        "\n",
        "    conv3 = layers.Conv2D(128*scale, (3, 3), padding=\"same\", activation='relu')(max2)\n",
        "    max3 = layers.MaxPooling2D((2, 2))(conv3)\n",
        "    #### ADDED\n",
        "    conv4 = layers.Conv2D(256*scale, (3, 3), padding=\"same\", activation='relu')(max3)\n",
        "    max4 = layers.MaxPooling2D((2, 2))(conv4)\n",
        "\n",
        "    lat = layers.Conv2D(256*scale, (3, 3), padding=\"same\", activation='relu')(max4)\n",
        "\n",
        "    # Decoding path\n",
        "    up1 = layers.UpSampling2D((2, 2))(lat)\n",
        "    concat1 = layers.concatenate([conv4, up1], axis=-1)\n",
        "    conv5 = layers.Conv2D(128*scale, (3, 3), padding=\"same\", activation='relu')(concat1)\n",
        "    \n",
        "    up2 = layers.UpSampling2D((2, 2))(conv5)\n",
        "    concat2 = layers.concatenate([conv3, up2], axis=-1)\n",
        "    conv6 = layers.Conv2D(64*scale, (3, 3), padding=\"same\", activation='relu')(concat2)\n",
        "    \n",
        "    up3 = layers.UpSampling2D((2, 2))(conv6)\n",
        "    concat3 = layers.concatenate([conv2, up3], axis=-1)\n",
        "    conv6 = layers.Conv2D(64*scale, (3, 3), padding=\"same\", activation='relu')(concat3)\n",
        "       ### ADDED one layer\n",
        "    up4 = layers.UpSampling2D((2, 2))(conv6)\n",
        "    concat4 = layers.concatenate([conv1, up4], axis=-1)\n",
        "\n",
        "    conv7 = layers.Conv2D(32*scale, (3, 3), padding=\"same\", activation='relu')(concat4)\n",
        "\n",
        "    outputs = layers.Conv2D(n_classes, (1, 1), activation=\"softmax\")(conv7)\n",
        "\n",
        "    model = keras.Model(inputs, outputs)\n",
        "\n",
        "    return model"
      ],
      "metadata": {
        "id": "EWMuBprkeuye"
      },
      "execution_count": null,
      "outputs": []
    },
    {
      "cell_type": "markdown",
      "source": [
        "**Define SegNet architecture**"
      ],
      "metadata": {
        "id": "LQQkZOd0gYfG"
      }
    },
    {
      "cell_type": "code",
      "metadata": {
        "id": "flPaOqv0bZ3-"
      },
      "source": [
        "def get_segnet(img_size=PATCH_SIZE, n_classes=N_CLASSES, n_input_channels=N_INPUT_CHANNELS, scale=1):\n",
        "    inputs = keras.Input(shape=img_size + (n_input_channels, ))\n",
        "\n",
        "    # Encoding path\n",
        "    conv1 = layers.Conv2D(32*scale, (3, 3), padding=\"same\", activation='relu')(inputs)\n",
        "    max1 = layers.MaxPooling2D((2, 2))(conv1)\n",
        "\n",
        "    conv2 = layers.Conv2D(64*scale, (3, 3), padding=\"same\", activation='relu')(max1)\n",
        "    max2 = layers.MaxPooling2D((2, 2))(conv2)\n",
        "\n",
        "    conv3 = layers.Conv2D(128*scale, (3, 3), padding=\"same\", activation='relu')(max2)\n",
        "    max3 = layers.MaxPooling2D((2, 2))(conv3)\n",
        "\n",
        "    lat = layers.Conv2D(256*scale, (3, 3), padding=\"same\", activation='relu')(max3)\n",
        "\n",
        "    # Decoding path\n",
        "    up1 = layers.UpSampling2D((2, 2))(lat)\n",
        "    conv4 = layers.Conv2D(128*scale, (3, 3), padding=\"same\", activation='relu')(up1)\n",
        "    \n",
        "    up2 = layers.UpSampling2D((2, 2))(conv4)\n",
        "    conv5 = layers.Conv2D(64*scale, (3, 3), padding=\"same\", activation='relu')(up2)\n",
        "    \n",
        "    up3 = layers.UpSampling2D((2, 2))(conv5)\n",
        "    conv6 = layers.Conv2D(32*scale, (3, 3), padding=\"same\", activation='relu')(up3)\n",
        "\n",
        "    outputs = layers.Conv2D(n_classes, (1, 1), activation=\"softmax\")(conv6)\n",
        "\n",
        "    model = keras.Model(inputs, outputs)\n",
        "\n",
        "    return model"
      ],
      "execution_count": 20,
      "outputs": []
    },
    {
      "cell_type": "markdown",
      "metadata": {
        "id": "4Z1E1IglE-0w"
      },
      "source": [
        "**Load the 15 volumes**"
      ]
    },
    {
      "cell_type": "code",
      "metadata": {
        "id": "z-iEv0DKfkhD"
      },
      "source": [
        "def load_data(n_volumes=N_VOLUMES, image_size=IMAGE_SIZE, fname_pattern=FNAME_PATTERN) :\n",
        "  T1_volumes = np.zeros((n_volumes, *image_size, N_INPUT_CHANNELS))\n",
        "  T2_volumes = np.zeros((n_volumes, *image_size, N_INPUT_CHANNELS))\n",
        "  labels = np.zeros((n_volumes, *image_size, N_INPUT_CHANNELS))\n",
        "  for i in range(n_volumes) :\n",
        "    img_data = nib.load(fname_pattern.format(i+1, 'T1'))\n",
        "    image = img_data.get_fdata()\n",
        "    print(image.shape)\n",
        "    volume = np.zeros((*image_size, N_INPUT_CHANNELS))\n",
        "    print(volume.shape)\n",
        "    start_a = (256 - image.shape[0])//2\n",
        "    start_b = (256 - image.shape[2]) // 2\n",
        "    print(start_a, start_b)\n",
        "    volume[start_a:start_a + image.shape[0], :, start_b:start_b + image.shape[2], 0] = image\n",
        "    T1_volumes[i] = volume# img_data.get_fdata()\n",
        "\n",
        "    seg_data = nib.load(fname_pattern.format(i+1, 'seg'))\n",
        "    image = seg_data.get_fdata()\n",
        "    print(image.shape)\n",
        "    volume = np.zeros((*image_size, N_INPUT_CHANNELS))\n",
        "    print(volume.shape)\n",
        "    start_a = (256 - image.shape[0])//2\n",
        "    start_b = (256 - image.shape[2]) // 2\n",
        "    print(start_a, start_b)\n",
        "    volume[start_a:start_a + image.shape[0], :, start_b:start_b + image.shape[2], 0] = image\n",
        "\n",
        "\n",
        "    labels[i] = volume          #seg_data.get_fdata()\n",
        "\n",
        "  return (T1_volumes,_, labels)"
      ],
      "execution_count": 21,
      "outputs": []
    },
    {
      "cell_type": "code",
      "metadata": {
        "id": "SCohHTitd5gU"
      },
      "source": [
        "(T1_volumes,_, labels) = load_data()"
      ],
      "execution_count": null,
      "outputs": []
    },
    {
      "cell_type": "code",
      "source": [
        "print(T1_volumes.min(), T1_volumes.max())\n",
        "plt.imshow(T1_volumes[3, :, 100, :, 0], cmap = \"gray\")"
      ],
      "metadata": {
        "colab": {
          "base_uri": "https://localhost:8080/",
          "height": 304
        },
        "id": "wp1yf0mzK_01",
        "outputId": "d090b6c3-fa3e-4cfe-fbce-e172a21e1665"
      },
      "execution_count": null,
      "outputs": [
        {
          "output_type": "stream",
          "name": "stdout",
          "text": [
            "-129.7516326904297 1406.8665771484375\n"
          ]
        },
        {
          "output_type": "execute_result",
          "data": {
            "text/plain": [
              "<matplotlib.image.AxesImage at 0x7f3bbe4bbb10>"
            ]
          },
          "metadata": {},
          "execution_count": 30
        },
        {
          "output_type": "display_data",
          "data": {
            "image/png": "[encoded data removed]",
            "text/plain": [
              "<Figure size 432x288 with 1 Axes>"
            ]
          },
          "metadata": {
            "needs_background": "light"
          }
        }
      ]
    },
    {
      "cell_type": "markdown",
      "metadata": {
        "id": "7SAR9yuGNzLX"
      },
      "source": [
        "**loading or Spliting the volumes  into training and validation part**"
      ]
    },
    {
      "cell_type": "code",
      "metadata": {
        "id": "vi1ZvMHYNysO"
      },
      "source": [
        "training_volumes_T1 = T1_volumes[TRAINING_VOLUMES]\n",
        "training_labels = labels[TRAINING_VOLUMES]\n",
        "\n",
        "validation_volumes_T1 = T1_volumes[VALIDATION_VOLUMES]\n",
        "validation_labels = labels[VALIDATION_VOLUMES]"
      ],
      "execution_count": 23,
      "outputs": []
    },
    {
      "cell_type": "code",
      "source": [
        "### checking correctness of Dataloading \n",
        "print(T1_volumes.shape)\n",
        "plt.imshow(T1_volumes[3,138,:,:,0], cmap='gray')"
      ],
      "metadata": {
        "colab": {
          "base_uri": "https://localhost:8080/",
          "height": 304
        },
        "id": "blk3nL7ISj-9",
        "outputId": "6407231d-1558-413b-a7cd-f079401c07f5"
      },
      "execution_count": 25,
      "outputs": [
        {
          "output_type": "stream",
          "name": "stdout",
          "text": [
            "(15, 256, 192, 256, 1)\n"
          ]
        },
        {
          "output_type": "execute_result",
          "data": {
            "text/plain": [
              "<matplotlib.image.AxesImage at 0x7f53f7023610>"
            ]
          },
          "metadata": {},
          "execution_count": 25
        },
        {
          "output_type": "display_data",
          "data": {
            "image/png": "[encoded data removed]",
            "text/plain": [
              "<Figure size 432x288 with 1 Axes>"
            ]
          },
          "metadata": {
            "needs_background": "light"
          }
        }
      ]
    },
    {
      "cell_type": "code",
      "source": [
        "plt.imshow(labels[3,138,:,:,0], cmap ='gray')"
      ],
      "metadata": {
        "colab": {
          "base_uri": "https://localhost:8080/",
          "height": 286
        },
        "id": "AwiTNWn1pFYA",
        "outputId": "0e6f755c-f09a-484c-8113-fa94c5e00df5"
      },
      "execution_count": 29,
      "outputs": [
        {
          "output_type": "execute_result",
          "data": {
            "text/plain": [
              "<matplotlib.image.AxesImage at 0x7f53f6e29110>"
            ]
          },
          "metadata": {},
          "execution_count": 29
        },
        {
          "output_type": "display_data",
          "data": {
            "image/png": "[encoded data removed]",
            "text/plain": [
              "<Figure size 432x288 with 1 Axes>"
            ]
          },
          "metadata": {
            "needs_background": "light"
          }
        }
      ]
    },
    {
      "cell_type": "code",
      "source": [
        "plt.imshow(validation_volumes_T1[3,138,:,:,0], cmap ='gray')"
      ],
      "metadata": {
        "colab": {
          "base_uri": "https://localhost:8080/",
          "height": 286
        },
        "id": "NkAhQ_LnSnId",
        "outputId": "712361f9-49a0-4a0c-c562-5d23683f31e1"
      },
      "execution_count": 30,
      "outputs": [
        {
          "output_type": "execute_result",
          "data": {
            "text/plain": [
              "<matplotlib.image.AxesImage at 0x7f53f6db1dd0>"
            ]
          },
          "metadata": {},
          "execution_count": 30
        },
        {
          "output_type": "display_data",
          "data": {
            "image/png": "[encoded data removed]",
            "text/plain": [
              "<Figure size 432x288 with 1 Axes>"
            ]
          },
          "metadata": {
            "needs_background": "light"
          }
        }
      ]
    },
    {
      "cell_type": "markdown",
      "metadata": {
        "id": "LpKWGJ-Fh1B_"
      },
      "source": [
        "**Pre-process data**"
      ]
    },
    {
      "cell_type": "code",
      "metadata": {
        "id": "8GPSNW8HhzNb"
      },
      "source": [
        "## Cell_3\n",
        "\n",
        "\n",
        "### Standardization part of the cell \n",
        "def z_score_standardisation(x, avg, std):\n",
        "  return (x-avg)/std\n",
        "\n",
        "ref_avg = training_volumes_T1[training_labels!=0].mean()\n",
        "ref_std = training_volumes_T1[training_labels!=0].std()\n",
        "\n",
        "training_volumes_T1 = z_score_standardisation(training_volumes_T1, ref_avg, ref_std)\n",
        "validation_volumes_T1 = z_score_standardisation(validation_volumes_T1, ref_avg, ref_std)"
      ],
      "execution_count": null,
      "outputs": []
    },
    {
      "cell_type": "markdown",
      "source": [
        "**Synthetic data** or **Image generator**"
      ],
      "metadata": {
        "id": "i_W9twuQkzO7"
      }
    },
    {
      "cell_type": "code",
      "source": [
        " ## Cell_4\n",
        "\n",
        "import random\n",
        "from scipy.ndimage import gaussian_filter\n",
        "\n",
        "class DataGenerator(keras.utils.Sequence):\n",
        "    'Generates data for Keras'\n",
        "    def __init__(self, labels, shuffle=True):\n",
        "        'Initialization'\n",
        "        self.dim = PATCH_SIZE\n",
        "        self.batch_size = BATCH_SIZE\n",
        "        self.list_IDs = range(labels.shape[0])\n",
        "        self.labels = labels\n",
        "        self.n_channels = N_INPUT_CHANNELS\n",
        "        self.n_classes = N_CLASSES\n",
        "        self.shuffle = shuffle\n",
        "        self.on_epoch_end()\n",
        "\n",
        "    def __len__(self):\n",
        "        'Denotes the number of batches per epoch'\n",
        "        return int(np.floor(len(self.list_IDs) / self.batch_size))\n",
        "\n",
        "    def __getitem__(self, index):\n",
        "        'Generate one batch of data'\n",
        "        # Generate indexes of the batch\n",
        "        indexes = self.indexes[index*self.batch_size:(index+1)*self.batch_size]\n",
        "\n",
        "        # Find list of IDs\n",
        "        list_IDs_temp = [self.list_IDs[k] for k in indexes]\n",
        "\n",
        "        # Generate data\n",
        "        X, y = self.__data_generation(list_IDs_temp)\n",
        "\n",
        "        return X, y\n",
        "\n",
        "    def on_epoch_end(self):\n",
        "        'Updates indexes after each epoch'\n",
        "        self.indexes = np.arange(len(self.list_IDs))\n",
        "        if self.shuffle == True:\n",
        "            np.random.shuffle(self.indexes)\n",
        "\n",
        "    def __data_generation(self, list_IDs_temp):\n",
        "        'Generates data containing batch_size samples' # X : (n_samples, *dim, n_channels)\n",
        "        # Initialization\n",
        "        X = np.empty((self.batch_size, *self.dim, self.n_channels), dtype=float)\n",
        "        Y = np.empty((self.batch_size, *self.dim, self.n_classes), dtype=int)\n",
        "\n",
        "        # Generate data\n",
        "        for i, ID in enumerate(list_IDs_temp):\n",
        "            map = self.labels[ID]\n",
        "\n",
        "            sample = np.zeros_like(map)\n",
        "\n",
        "            sample[map == 1] = np.random.normal(175.97978412, 62.56217898)\n",
        "            sample[map == 2] = np.random.normal(231.44596825, 20.93681171)\n",
        "            sample[map == 3] = np.random.normal(257.48750258, 24.89890488)\n",
        "\n",
        "            sample = gaussian_filter(sample, sigma=np.abs(np.random.normal(1, 0.25)))\n",
        "\n",
        "            noise = np.random.normal(0, 20, size=map.shape)\n",
        "\n",
        "            sample = sample + noise\n",
        "\n",
        "            sample[map == 0] = 0\n",
        "\n",
        "            X[i, ] = (sample - 289.43550817663186) / 125.09902733275413\n",
        "\n",
        "            # Store class\n",
        "            Y[i, ] =  tf.keras.utils.to_categorical(map, num_classes=self.n_classes)\n",
        "\n",
        "        return X, Y"
      ],
      "metadata": {
        "id": "s3r15R2mlBLp"
      },
      "execution_count": null,
      "outputs": []
    },
    {
      "cell_type": "code",
      "source": [
        "training_generator = DataGenerator(training_patches_seg) ## calling function "
      ],
      "metadata": {
        "id": "W3Y76eBqlZsV"
      },
      "execution_count": null,
      "outputs": []
    },
    {
      "cell_type": "code",
      "source": [
        "for x in training_generator : # Checking generated Imags \n",
        "  break\n",
        "\n",
        "plt.imshow(x[0][1, :, :, 0],cmap ='gray')"
      ],
      "metadata": {
        "id": "Gr6gvpWLlapE"
      },
      "execution_count": null,
      "outputs": []
    },
    {
      "cell_type": "markdown",
      "metadata": {
        "id": "BFDtzyW6FH7x"
      },
      "source": [
        "**Extract *useful* patches**\n",
        "\n",
        "This step is fundamental, we want to provide the network with useful information"
      ]
    },
    {
      "cell_type": "code",
      "metadata": {
        "id": "v4qyfiRaf7n2"
      },
      "source": [
        " ## Cell_5\n",
        "def extract_patches(x, patch_size, patch_stride) :\n",
        "  return tf.image.extract_patches(\n",
        "    x,\n",
        "    sizes=[1, *patch_size, 1],\n",
        "    strides=[1, *patch_stride, 1],\n",
        "    rates=[1, 1, 1, 1],\n",
        "    padding='SAME', name=None)"
      ],
      "execution_count": 31,
      "outputs": []
    },
    {
      "cell_type": "code",
      "metadata": {
        "id": "nsKNTm-Lf-sb"
      },
      "source": [
        " ### Cell_5\n",
        "def extract_useful_patches(\n",
        "    volumes, labels,\n",
        "    image_size=IMAGE_SIZE,\n",
        "    patch_size=PATCH_SIZE,\n",
        "    stride=PATCH_STRIDE,\n",
        "    threshold=CONTENT_THRESHOLD,\n",
        "    num_classes=N_CLASSES) :\n",
        "  volumes = volumes.reshape([-1, image_size[1], image_size[2], 1])\n",
        "  labels = labels.reshape([-1, image_size[1], image_size[2], 1])\n",
        "\n",
        "  vol_patches = extract_patches(volumes, patch_size, stride).numpy()\n",
        "  seg_patches = extract_patches(labels, patch_size, stride).numpy()\n",
        "\n",
        "  vol_patches = vol_patches.reshape([-1, *patch_size, 1])\n",
        "  seg_patches = seg_patches.reshape([-1, *patch_size, ])\n",
        "\n",
        "  foreground_mask = seg_patches != 0\n",
        "\n",
        "  useful_patches = foreground_mask.sum(axis=(1, 2)) > threshold * np.prod(patch_size)\n",
        "\n",
        "  vol_patches = vol_patches[useful_patches]\n",
        "  seg_patches = seg_patches[useful_patches]\n",
        "\n",
        "  seg_patches = tf.keras.utils.to_categorical(\n",
        "    seg_patches, num_classes=N_CLASSES, dtype='float32')\n",
        "  \n",
        "  return (vol_patches, seg_patches)"
      ],
      "execution_count": 32,
      "outputs": []
    },
    {
      "cell_type": "code",
      "metadata": {
        "id": "tTcoEi426bfg"
      },
      "source": [
        "# extract patches from training set\n",
        "(training_patches_T1, training_patches_seg) = extract_useful_patches(training_volumes_T1, training_labels)\n",
        "# extract patches from validation set\n",
        "(validation_patches_T1, validation_patches_seg) = extract_useful_patches(validation_volumes_T1, validation_labels)"
      ],
      "execution_count": 33,
      "outputs": []
    },
    {
      "cell_type": "code",
      "source": [
        "plt.imshow(training_patches_T1[0,:,:,0], cmap ='gray')"
      ],
      "metadata": {
        "colab": {
          "base_uri": "https://localhost:8080/",
          "height": 285
        },
        "id": "ppw6NzcO2Mhh",
        "outputId": "b8bf0aff-7a46-45ea-c3e3-294287394f96"
      },
      "execution_count": 34,
      "outputs": [
        {
          "output_type": "execute_result",
          "data": {
            "text/plain": [
              "<matplotlib.image.AxesImage at 0x7f53e0093f10>"
            ]
          },
          "metadata": {},
          "execution_count": 34
        },
        {
          "output_type": "display_data",
          "data": {
            "image/png": "[encoded data removed]",
            "text/plain": [
              "<Figure size 432x288 with 1 Axes>"
            ]
          },
          "metadata": {
            "needs_background": "light"
          }
        }
      ]
    },
    {
      "cell_type": "code",
      "source": [
        "plt.imshow(training_patches_seg[0,:,:,0],cmap ='gray')"
      ],
      "metadata": {
        "colab": {
          "base_uri": "https://localhost:8080/",
          "height": 285
        },
        "id": "8ThTcoUSkHLO",
        "outputId": "5e36d1f4-7c62-4c4f-b8cb-79782abebeb4"
      },
      "execution_count": 35,
      "outputs": [
        {
          "output_type": "execute_result",
          "data": {
            "text/plain": [
              "<matplotlib.image.AxesImage at 0x7f53e001a350>"
            ]
          },
          "metadata": {},
          "execution_count": 35
        },
        {
          "output_type": "display_data",
          "data": {
            "image/png": "[encoded data removed]",
            "text/plain": [
              "<Figure size 432x288 with 1 Axes>"
            ]
          },
          "metadata": {
            "needs_background": "light"
          }
        }
      ]
    },
    {
      "cell_type": "code",
      "source": [
        "print(validation_patches_T1.shape)\n",
        "plt.imshow(validation_patches_T1[0,:,:,0],cmap ='gray')"
      ],
      "metadata": {
        "colab": {
          "base_uri": "https://localhost:8080/",
          "height": 303
        },
        "id": "vRw4hN6GWq0s",
        "outputId": "c59bba3e-5bcd-498d-c9c3-297b586fdc6e"
      },
      "execution_count": null,
      "outputs": [
        {
          "output_type": "stream",
          "name": "stdout",
          "text": [
            "(6054, 64, 64, 1)\n"
          ]
        },
        {
          "output_type": "execute_result",
          "data": {
            "text/plain": [
              "<matplotlib.image.AxesImage at 0x7f3d4856ca90>"
            ]
          },
          "metadata": {},
          "execution_count": 46
        },
        {
          "output_type": "display_data",
          "data": {
            "image/png": "[encoded data removed]",
            "text/plain": [
              "<Figure size 432x288 with 1 Axes>"
            ]
          },
          "metadata": {
            "needs_background": "light"
          }
        }
      ]
    },
    {
      "cell_type": "code",
      "source": [
        "plt.imshow(validation_patches_seg[200,:,:,3],cmap ='gray')"
      ],
      "metadata": {
        "colab": {
          "base_uri": "https://localhost:8080/",
          "height": 285
        },
        "id": "_kQJEPfAWwoq",
        "outputId": "4c4de468-e717-4ada-bf4e-77e205001331"
      },
      "execution_count": 36,
      "outputs": [
        {
          "output_type": "execute_result",
          "data": {
            "text/plain": [
              "<matplotlib.image.AxesImage at 0x7f537a4fe690>"
            ]
          },
          "metadata": {},
          "execution_count": 36
        },
        {
          "output_type": "display_data",
          "data": {
            "image/png": "[encoded data removed]",
            "text/plain": [
              "<Figure size 432x288 with 1 Axes>"
            ]
          },
          "metadata": {
            "needs_background": "light"
          }
        }
      ]
    },
    {
      "cell_type": "markdown",
      "metadata": {
        "id": "bJYxf3HiFopr"
      },
      "source": [
        "**SegNet or U-net model and train it**\n",
        "\n"
      ]
    },
    {
      "cell_type": "code",
      "source": [
        " #### Cell_6\n",
        "my_callbacks = [\n",
        "    tf.keras.callbacks.EarlyStopping(patience=PATIENCE),\n",
        "    tf.keras.callbacks.ModelCheckpoint(filepath=MODEL_FNAME_PATTERN, save_best_only=True)\n",
        "]\n",
        "\n",
        "# Generators\n",
        "#training_generator = DataGenerator(training_patches_seg) ### If needed \n",
        "\n",
        "segnet = get_segnet()\n",
        "segnet.compile(optimizer=OPTIMISER, loss=LOSS)\n",
        "histroy=segnet.fit(\n",
        "    x=training_patches_T1, ## x= training_generator # To see the effect of synthetic images\n",
        "    y=training_patches_seg,\n",
        "    validation_data=(validation_patches_T1, validation_patches_seg),\n",
        "    batch_size=BATCH_SIZE,\n",
        "    epochs=N_EPOCHS,\n",
        "    callbacks=my_callbacks,\n",
        "    verbose=1)"
      ],
      "metadata": {
        "colab": {
          "base_uri": "https://localhost:8080/"
        },
        "id": "iikGHhy4cs9T",
        "outputId": "8a5d0c16-d6ce-432d-c55d-c01efa247f02"
      },
      "execution_count": 38,
      "outputs": [
        {
          "output_type": "stream",
          "name": "stdout",
          "text": [
            "Epoch 1/50\n",
            "893/893 [==============================] - 20s 12ms/step - loss: 0.3887 - val_loss: 0.4175\n",
            "Epoch 2/50\n",
            "893/893 [==============================] - 10s 11ms/step - loss: 0.2454 - val_loss: 0.3679\n",
            "Epoch 3/50\n",
            "893/893 [==============================] - 10s 11ms/step - loss: 0.2101 - val_loss: 0.3453\n",
            "Epoch 4/50\n",
            "893/893 [==============================] - 10s 11ms/step - loss: 0.1879 - val_loss: 0.3584\n",
            "Epoch 5/50\n",
            "893/893 [==============================] - 10s 11ms/step - loss: 0.1738 - val_loss: 0.3419\n",
            "Epoch 6/50\n",
            "893/893 [==============================] - 10s 11ms/step - loss: 0.1622 - val_loss: 0.3654\n",
            "Epoch 7/50\n",
            "893/893 [==============================] - 10s 11ms/step - loss: 0.1536 - val_loss: 0.3630\n",
            "Epoch 8/50\n",
            "893/893 [==============================] - 10s 11ms/step - loss: 0.1472 - val_loss: 0.3799\n",
            "Epoch 9/50\n",
            "893/893 [==============================] - 10s 11ms/step - loss: 0.1410 - val_loss: 0.3785\n",
            "Epoch 10/50\n",
            "893/893 [==============================] - 10s 11ms/step - loss: 0.1367 - val_loss: 0.3960\n",
            "Epoch 11/50\n",
            "893/893 [==============================] - 10s 11ms/step - loss: 0.1321 - val_loss: 0.3790\n",
            "Epoch 12/50\n",
            "893/893 [==============================] - 10s 11ms/step - loss: 0.1283 - val_loss: 0.3939\n",
            "Epoch 13/50\n",
            "893/893 [==============================] - 10s 11ms/step - loss: 0.1248 - val_loss: 0.4142\n",
            "Epoch 14/50\n",
            "893/893 [==============================] - 10s 11ms/step - loss: 0.1223 - val_loss: 0.4067\n",
            "Epoch 15/50\n",
            "893/893 [==============================] - 10s 11ms/step - loss: 0.1197 - val_loss: 0.4391\n",
            "Epoch 16/50\n",
            "893/893 [==============================] - 10s 11ms/step - loss: 0.1161 - val_loss: 0.4175\n",
            "Epoch 17/50\n",
            "893/893 [==============================] - 10s 11ms/step - loss: 0.1155 - val_loss: 0.4373\n",
            "Epoch 18/50\n",
            "893/893 [==============================] - 10s 11ms/step - loss: 0.1125 - val_loss: 0.4362\n",
            "Epoch 19/50\n",
            "893/893 [==============================] - 10s 11ms/step - loss: 0.1108 - val_loss: 0.4459\n",
            "Epoch 20/50\n",
            "893/893 [==============================] - 10s 11ms/step - loss: 0.1093 - val_loss: 0.4373\n"
          ]
        }
      ]
    },
    {
      "cell_type": "code",
      "source": [
        "N_EPOCHS =21 ### Updating the Epoch number "
      ],
      "metadata": {
        "id": "mgYHpN48uQqP"
      },
      "execution_count": null,
      "outputs": []
    },
    {
      "cell_type": "markdown",
      "metadata": {
        "id": "fjIfjtiaKYr1"
      },
      "source": [
        "We could stop training when validation loss increases substantially"
      ]
    },
    {
      "cell_type": "code",
      "metadata": {
        "id": "bspE_hozI9zN"
      },
      "source": [
        "plt.figure()\n",
        "plt.plot(range(N_EPOCHS), histroy.history['loss'], label='loss')\n",
        "plt.plot(range(N_EPOCHS), histroy.history['val_loss'], label='val_loss')\n",
        "plt.legend()\n",
        "plt.show()"
      ],
      "execution_count": null,
      "outputs": []
    },
    {
      "cell_type": "markdown",
      "metadata": {
        "id": "EkBp70aWGB_b"
      },
      "source": [
        "Using callbacks to stop training and avoid overfitting\n",
        "\n",
        "\n",
        "*   Early stopping with a certain patience\n",
        "*   Save (and load!) best model\n",
        "\n"
      ]
    },
    {
      "cell_type": "code",
      "source": [
        "my_callbacks = [\n",
        "    tf.keras.callbacks.EarlyStopping(patience=PATIENCE),\n",
        "    tf.keras.callbacks.ModelCheckpoint(filepath=MODEL_FNAME_PATTERN, save_best_only=True)\n",
        "]"
      ],
      "metadata": {
        "id": "4qXrK_rzmx4-"
      },
      "execution_count": null,
      "outputs": []
    },
    {
      "cell_type": "markdown",
      "metadata": {
        "id": "XGcfrZCMjz4M"
      },
      "source": [
        "**Load best model**"
      ]
    },
    {
      "cell_type": "code",
      "metadata": {
        "id": "5fNsYJL7KnON"
      },
      "source": [
        "segnet = get_segnet(\n",
        "    img_size=(IMAGE_SIZE[1], IMAGE_SIZE[2]),\n",
        "    n_classes=N_CLASSES,\n",
        "    n_input_channels=N_INPUT_CHANNELS)\n",
        "segnet.compile(optimizer=OPTIMISER, loss=LOSS)\n",
        "segnet.load_weights('Best_model.h5')"
      ],
      "execution_count": null,
      "outputs": []
    },
    {
      "cell_type": "markdown",
      "metadata": {
        "id": "CwPzN0jrSm8r"
      },
      "source": [
        "**Prepare test data**"
      ]
    },
    {
      "cell_type": "code",
      "source": [
        "n_volume =1\n",
        "image_size =IMAGE_SIZE\n",
        "FNAME_PATTERN_1 = '/content/drive/MyDrive/MiSa/Test_Set/test_images/IBSR_02.nii.gz'\n",
        "T1_test = np.zeros((n_volume, *image_size, N_INPUT_CHANNELS))\n",
        "img_data = nib.load(FNAME_PATTERN_1)\n",
        "T2_test = img_data.get_fdata()"
      ],
      "metadata": {
        "id": "TyM9BPwFnAO2"
      },
      "execution_count": null,
      "outputs": []
    },
    {
      "cell_type": "code",
      "source": [
        "testing_volumes_T1 =T2_test"
      ],
      "metadata": {
        "id": "2qSaWDxXnGl2"
      },
      "execution_count": null,
      "outputs": []
    },
    {
      "cell_type": "code",
      "source": [
        "testing_volumes_T1.shape"
      ],
      "metadata": {
        "colab": {
          "base_uri": "https://localhost:8080/"
        },
        "id": "uS1BAjBY8ow5",
        "outputId": "9f8758a4-40f8-4aa3-bd70-c054019a6046"
      },
      "execution_count": null,
      "outputs": [
        {
          "output_type": "execute_result",
          "data": {
            "text/plain": [
              "(1, 256, 128, 256, 1)"
            ]
          },
          "metadata": {},
          "execution_count": 116
        }
      ]
    },
    {
      "cell_type": "code",
      "metadata": {
        "id": "vuRHLNYGkDFp"
      },
      "source": [
        "testing_volumes_T1_processed = testing_volumes_T1.reshape([-1, IMAGE_SIZE[1], IMAGE_SIZE[2], 1])\n",
        "testing_labels_processed = testing_labels.reshape([-1, IMAGE_SIZE[1], IMAGE_SIZE[2], 1])\n",
        "\n",
        "testing_labels_processed = tf.keras.utils.to_categorical(\n",
        "testing_labels_processed, num_classes=4, dtype='float32')"
      ],
      "execution_count": null,
      "outputs": []
    },
    {
      "cell_type": "code",
      "source": [
        "testing_volumes_T1_processed.shape"
      ],
      "metadata": {
        "colab": {
          "base_uri": "https://localhost:8080/"
        },
        "id": "j1LG6Gkn80E4",
        "outputId": "539a91d6-8de6-42f0-b24b-0345a94c6b4e"
      },
      "execution_count": null,
      "outputs": [
        {
          "output_type": "execute_result",
          "data": {
            "text/plain": [
              "(256, 128, 256, 1)"
            ]
          },
          "metadata": {},
          "execution_count": 118
        }
      ]
    },
    {
      "cell_type": "markdown",
      "metadata": {
        "id": "xbJZUQyLqF4p"
      },
      "source": [
        "**Predict labels for test data**"
      ]
    },
    {
      "cell_type": "code",
      "metadata": {
        "id": "ItoY31x0K3r8"
      },
      "source": [
        "prediction = segnet.predict(x=testing_volumes_T1_processed)\n",
        "\n",
        "prediction = np.argmax(prediction, axis=3)\n",
        "\n",
        "plt.imshow(prediction[:, :, 155])"
      ],
      "execution_count": null,
      "outputs": []
    },
    {
      "cell_type": "code",
      "source": [
        "plt.imshow(testing_labels_processed[:,:,155, 2])\n",
        "print(testing_labels_processed.shape)\n",
        "print(np.unique(testing_labels_processed))\n"
      ],
      "metadata": {
        "id": "X2qFvYAsqnke"
      },
      "execution_count": null,
      "outputs": []
    },
    {
      "cell_type": "markdown",
      "metadata": {
        "id": "RRv6OEnPqRj8"
      },
      "source": [
        "**Compute DSC for test data**"
      ]
    },
    {
      "cell_type": "code",
      "metadata": {
        "id": "1FraQquLu-Lv"
      },
      "source": [
        "def compute_dice(prediction, labels) :\n",
        "  prediction = prediction.squeeze()\n",
        "  labels = labels.squeeze()\n",
        "  for c in np.unique(prediction) :\n",
        "    intersection = np.logical_and(prediction == c, labels==c).sum()\n",
        "    union = (prediction == c).sum() + (labels==c).sum()\n",
        "    print(f'Dice coefficient class {c} equal to {2 * intersection / union : .2f}')\n",
        "\n",
        "compute_dice(prediction, testing_labels)"
      ],
      "execution_count": null,
      "outputs": []
    },
    {
      "cell_type": "code",
      "source": [
        "!pip install seg-metrics"
      ],
      "metadata": {
        "colab": {
          "base_uri": "https://localhost:8080/"
        },
        "id": "bKeAwIxQoRAQ",
        "outputId": "12c03819-da84-45d4-9e35-2b86c9757fb1"
      },
      "execution_count": null,
      "outputs": [
        {
          "output_type": "stream",
          "name": "stdout",
          "text": [
            "Requirement already satisfied: seg-metrics in /usr/local/lib/python3.7/dist-packages (1.0.19)\n"
          ]
        }
      ]
    },
    {
      "cell_type": "code",
      "source": [
        "!pip install SimpleITK"
      ],
      "metadata": {
        "colab": {
          "base_uri": "https://localhost:8080/"
        },
        "id": "o9OIkZg8og6n",
        "outputId": "578b5811-41eb-46df-c8a5-f42cebdfb395"
      },
      "execution_count": null,
      "outputs": [
        {
          "output_type": "stream",
          "name": "stdout",
          "text": [
            "Requirement already satisfied: SimpleITK in /usr/local/lib/python3.7/dist-packages (2.1.1)\n"
          ]
        }
      ]
    },
    {
      "cell_type": "code",
      "source": [
        "!pip install medutils"
      ],
      "metadata": {
        "id": "BTnctfgXoxOI"
      },
      "execution_count": null,
      "outputs": []
    },
    {
      "cell_type": "code",
      "source": [
        "import seg_metrics.seg_metrics as sg ##importing segmentation metrics "
      ],
      "metadata": {
        "id": "oGyo6D5VoYQY"
      },
      "execution_count": null,
      "outputs": []
    },
    {
      "cell_type": "code",
      "source": [
        "testing_volumes_T1_processed.shape"
      ],
      "metadata": {
        "id": "05XXBq_Y8EuW"
      },
      "execution_count": null,
      "outputs": []
    },
    {
      "cell_type": "code",
      "source": [
        "testing_labels.shape"
      ],
      "metadata": {
        "id": "a8WA7lsh8Fk1"
      },
      "execution_count": null,
      "outputs": []
    },
    {
      "cell_type": "code",
      "source": [
        "labels = [0, 1, 2,3]\n",
        "pred_img = prediction\n",
        "gdth_img = testing_labels[0,:,:,:,0]\n",
        "csv_file = 'metrics.csv'\n",
        "\n",
        "metrics = sg.write_metrics(labels=labels[0:],  #Including  background if needed\n",
        "                  gdth_img=gdth_img,\n",
        "                  pred_img=pred_img,\n",
        "                  csv_file=csv_file,\n",
        "                  metrics=['dice', 'hd','vs']) ## calculating the Hausdorff Difference and AVD\n",
        "\n",
        "'''\n",
        "metrics = sg.write_metrics(labels=labels[1:],  # exclude background if needed\n",
        "                  gdth_img=gdth_img,\n",
        "                  pred_img=pred_img,\n",
        "                  csv_file=csv_file,\n",
        "                  metrics=['dice', 'hd','vs'])\n",
        "'''\n",
        "\n"
      ],
      "metadata": {
        "id": "hJul0V5Vp3rY"
      },
      "execution_count": null,
      "outputs": []
    },
    {
      "cell_type": "code",
      "source": [
        "metrics ###  displaying result "
      ],
      "metadata": {
        "id": "7x8Uy6RGz2ka"
      },
      "execution_count": null,
      "outputs": []
    },
    {
      "cell_type": "markdown",
      "source": [
        "**Saving the prediction as Nifti Image format**"
      ],
      "metadata": {
        "id": "f-VVMdJaoNrZ"
      }
    },
    {
      "cell_type": "code",
      "source": [
        "import nibabel as nib\n",
        "gtVolum_path = '/content/drive/MyDrive/MiSa/Validation_Set/Dataset/IBSR_13.nii.gz'\n",
        "img = nib.load(gtVolum_path)\n",
        "img.header.set_data_shape=prediction.shape#(256,128,256)\n",
        "array_img = nib.Nifti1Image(prediction, img.affine,img.header)\n",
        "nib.save(array_img, '/content/drive/MyDrive/MiSa/IBSR_14.nii.gz')"
      ],
      "metadata": {
        "id": "ZP4f_gMVP0vu"
      },
      "execution_count": null,
      "outputs": []
    },
    {
      "cell_type": "code",
      "source": [
        "img.get_affine\n",
        "img.header"
      ],
      "metadata": {
        "id": "ONa9T_DYo4yT"
      },
      "execution_count": null,
      "outputs": []
    },
    {
      "cell_type": "code",
      "source": [
        "array_img.update_header()\n",
        "nib.save(array_img, '/content/drive/MyDrive/MiSa/IBSR_13.nii.gz') ## Saving the prediction as Nifti Image"
      ],
      "metadata": {
        "id": "5SNnynrQo85g"
      },
      "execution_count": null,
      "outputs": []
    }
  ]
}